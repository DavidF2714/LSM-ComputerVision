{
 "cells": [
  {
   "cell_type": "code",
   "execution_count": 1,
   "metadata": {},
   "outputs": [
    {
     "name": "stdout",
     "output_type": "stream",
     "text": [
      "Images have been organized into folders from A to Z.\n"
     ]
    }
   ],
   "source": [
    "import os\n",
    "import shutil\n",
    "\n",
    "# Define the source directory containing the images\n",
    "source_dir = 'LSM.v1i.yolov11/images_unsort'\n",
    "\n",
    "# Define the destination directory where the organized folders will be created\n",
    "destination_dir = 'LSM.v1i.yolov11/images_sorted'\n",
    "\n",
    "# Ensure the destination directory exists\n",
    "os.makedirs(destination_dir, exist_ok=True)\n",
    "\n",
    "# Iterate over all files in the source directory\n",
    "for filename in os.listdir(source_dir):\n",
    "    if filename.lower().endswith(('.png', '.jpg', '.jpeg', '.bmp', '.gif')):\n",
    "        # Get the first character of the filename (converted to uppercase)\n",
    "        first_char = filename[0].upper()\n",
    "        \n",
    "        # Create the corresponding folder in the destination directory\n",
    "        folder_path = os.path.join(destination_dir, first_char)\n",
    "        os.makedirs(folder_path, exist_ok=True)\n",
    "        \n",
    "        # Move the file to the corresponding folder\n",
    "        source_path = os.path.join(source_dir, filename)\n",
    "        destination_path = os.path.join(folder_path, filename)\n",
    "        shutil.move(source_path, destination_path)\n",
    "\n",
    "print(\"Images have been organized into folders from A to Z.\")"
   ]
  }
 ],
 "metadata": {
  "kernelspec": {
   "display_name": "Python 3",
   "language": "python",
   "name": "python3"
  },
  "language_info": {
   "codemirror_mode": {
    "name": "ipython",
    "version": 3
   },
   "file_extension": ".py",
   "mimetype": "text/x-python",
   "name": "python",
   "nbconvert_exporter": "python",
   "pygments_lexer": "ipython3",
   "version": "3.12.7"
  }
 },
 "nbformat": 4,
 "nbformat_minor": 2
}
